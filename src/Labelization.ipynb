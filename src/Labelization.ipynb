{
 "cells": [
  {
   "cell_type": "code",
   "execution_count": 1,
   "id": "2b8662ae",
   "metadata": {},
   "outputs": [],
   "source": [
    "import cv2, glob\n",
    "import pandas as pd"
   ]
  },
  {
   "cell_type": "code",
   "execution_count": 2,
   "id": "e706a17f",
   "metadata": {},
   "outputs": [
    {
     "name": "stdout",
     "output_type": "stream",
     "text": [
      "'004 Osmia lignaria f right 4x.jpg'\r\n",
      "'013 Osmia texana m right 4x.jpg'\r\n",
      "'105 Lasioglossum pilosum f left 4x.jpg'\r\n",
      "'1062 Agapostemon texanus f right 3.2x.csv'\r\n",
      "'1062 Agapostemon texanus f right 3.2x.jpg'\r\n",
      "'106 Lasioglossum zephyrum f right 4x.jpg'\r\n",
      "'1118 Osmia lignaria lignaria f right 4x.jpg'\r\n",
      "'112 Lasioglossum leucozonium f left 3.2x.jpg'\r\n",
      "'1165 Agapostemon texanus f left 3.2x.jpg'\r\n",
      "'119 Lasioglossum rohweri f left 4x.jpg'\r\n",
      "'1220 Osmia lignaria propinqua f right 4x.jpg'\r\n",
      "'133 Lasioglossum nymphaerum f left 4x.jpg'\r\n",
      "'133 Lasioglossum nymphaerum f right 4x.csv'\r\n",
      "'133 Lasioglossum nymphaerum f right 4x.jpg'\r\n",
      "'149 Lasioglossum rohweri f left 4x.jpg'\r\n",
      "'154 Lasioglossum nymphaerum f left 4x.jpg'\r\n",
      "'154 Lasioglossum nymphaerum f right 4x.jpg'\r\n",
      "'173 Lasioglossum rohweri f left 4x.jpg'\r\n",
      "'193 Megachile latimanus f right 4x.csv'\r\n",
      "'193 Megachile latimanus f right 4x.jpg'\r\n",
      "'1 Lasioglossum leucozonium f right 3.2x.jpg'\r\n",
      "'385 Lasioglossum leucozonium f left 3.2x.jpg'\r\n",
      "'41 Lasioglossum rohweri f right 4x.jpg'\r\n",
      "'49 Lasioglossum pilosum f right 4x.jpg'\r\n",
      "'50 Lasioglossum rohweri f right 4x.jpg'\r\n",
      "'62 Lasioglossum rohweri f right 4x.jpg'\r\n",
      "'65 Lasioglossum nymphaerum f right 4x.jpg'\r\n",
      "'784 Lasioglossum zonulum f left 4x.jpg'\r\n",
      "'7 Lasioglossum leucozonium f left 3.2x.jpg'\r\n",
      "'842 Agapostemon texanus f right 3.2x.jpg'\r\n",
      "'84 Lasioglossum MAWIspB f left 4x.jpg'\r\n",
      "'85 Lasioglossum rohweri f right 4x.jpg'\r\n",
      "'87 Lasioglossum pilosum f left 4x.jpg'\r\n",
      "'8 Lasioglossum zephyrum f left 4x.jpg'\r\n",
      "'913 Lasioglossum leucozonium f left 3.2x.jpg'\r\n"
     ]
    }
   ],
   "source": [
    "!ls ../../Data/TRAIN/"
   ]
  },
  {
   "cell_type": "code",
   "execution_count": 3,
   "id": "02d5731f",
   "metadata": {},
   "outputs": [],
   "source": [
    "def click_event(event, x, y, flags, params):\n",
    "    if event == cv2.EVENT_LBUTTONDOWN:\n",
    "  \n",
    "        print('Add point at ({}, {})'.format(x, y))\n",
    "        df.loc[df.shape[0]] = [x, y]\n",
    "  \n",
    "        font = cv2.FONT_HERSHEY_SIMPLEX\n",
    "        color = (255, 255, 0)\n",
    "        cv2.putText(img, str(x) + ',' +\n",
    "                    str(y), (x,y), font,\n",
    "                    1, color, 2)\n",
    "    cv2.imshow('image', img)"
   ]
  },
  {
   "cell_type": "code",
   "execution_count": 4,
   "id": "10200b1e",
   "metadata": {},
   "outputs": [
    {
     "name": "stdout",
     "output_type": "stream",
     "text": [
      "Add point at (925, 215)\n",
      "Add point at (844, 336)\n",
      "Add point at (1185, 421)\n",
      "Add point at (1265, 323)\n",
      "Add point at (1357, 345)\n",
      "Saved file: ../../Data/TRAIN/133 Lasioglossum nymphaerum f right 4x.csv\n",
      "Add point at (1001, 573)\n",
      "Add point at (1160, 667)\n",
      "Add point at (1417, 676)\n",
      "Add point at (1491, 942)\n",
      "Add point at (1051, 818)\n",
      "Saved file: ../../Data/TRAIN/193 Megachile latimanus f right 4x.csv\n",
      "Add point at (1014, 701)\n",
      "Add point at (1211, 721)\n",
      "Saved file: ../../Data/TRAIN/1062 Agapostemon texanus f right 3.2x.csv\n",
      "Saved file: ../../Data/TRAIN/842 Agapostemon texanus f right 3.2x.csv\n"
     ]
    }
   ],
   "source": [
    "# Init window\n",
    "window_name = 'image'\n",
    "cv2.namedWindow(window_name, cv2.WINDOW_NORMAL)\n",
    "cv2.setMouseCallback(window_name, click_event)\n",
    "\n",
    "path = '../../Data/TRAIN/'\n",
    "\n",
    "data = []\n",
    "for file in glob.glob(path + '*.jpg'):\n",
    "    df = pd.DataFrame(columns=['x', 'y'])\n",
    "    \n",
    "    # Display image \n",
    "    img = cv2.imread(file)\n",
    "    cv2.imshow(window_name, img)\n",
    "\n",
    "    # Wait for key pressed\n",
    "    key = cv2.waitKey(0)\n",
    "    \n",
    "    # Save csv file\n",
    "    csv_file = file[:-4] + '.csv'\n",
    "    df.to_csv(csv_file, index=False, header=False)\n",
    "    print('Saved file: {}'.format(csv_file))\n",
    "    \n",
    "    # Check quit key\n",
    "    if key == ord('q'):\n",
    "        break\n",
    "\n",
    "cv2.destroyAllWindows()  "
   ]
  },
  {
   "cell_type": "code",
   "execution_count": 5,
   "id": "c3f1897a",
   "metadata": {},
   "outputs": [
    {
     "data": {
      "text/html": [
       "<div>\n",
       "<style scoped>\n",
       "    .dataframe tbody tr th:only-of-type {\n",
       "        vertical-align: middle;\n",
       "    }\n",
       "\n",
       "    .dataframe tbody tr th {\n",
       "        vertical-align: top;\n",
       "    }\n",
       "\n",
       "    .dataframe thead th {\n",
       "        text-align: right;\n",
       "    }\n",
       "</style>\n",
       "<table border=\"1\" class=\"dataframe\">\n",
       "  <thead>\n",
       "    <tr style=\"text-align: right;\">\n",
       "      <th></th>\n",
       "      <th>0</th>\n",
       "      <th>1</th>\n",
       "    </tr>\n",
       "  </thead>\n",
       "  <tbody>\n",
       "    <tr>\n",
       "      <th>0</th>\n",
       "      <td>925</td>\n",
       "      <td>215</td>\n",
       "    </tr>\n",
       "    <tr>\n",
       "      <th>1</th>\n",
       "      <td>844</td>\n",
       "      <td>336</td>\n",
       "    </tr>\n",
       "    <tr>\n",
       "      <th>2</th>\n",
       "      <td>1185</td>\n",
       "      <td>421</td>\n",
       "    </tr>\n",
       "    <tr>\n",
       "      <th>3</th>\n",
       "      <td>1265</td>\n",
       "      <td>323</td>\n",
       "    </tr>\n",
       "    <tr>\n",
       "      <th>4</th>\n",
       "      <td>1357</td>\n",
       "      <td>345</td>\n",
       "    </tr>\n",
       "  </tbody>\n",
       "</table>\n",
       "</div>"
      ],
      "text/plain": [
       "      0    1\n",
       "0   925  215\n",
       "1   844  336\n",
       "2  1185  421\n",
       "3  1265  323\n",
       "4  1357  345"
      ]
     },
     "execution_count": 5,
     "metadata": {},
     "output_type": "execute_result"
    }
   ],
   "source": [
    "pd.read_csv('../../Data/TRAIN/133 Lasioglossum nymphaerum f right 4x.csv', header=None)"
   ]
  },
  {
   "cell_type": "code",
   "execution_count": 6,
   "id": "f527dc54",
   "metadata": {},
   "outputs": [
    {
     "data": {
      "text/html": [
       "<div>\n",
       "<style scoped>\n",
       "    .dataframe tbody tr th:only-of-type {\n",
       "        vertical-align: middle;\n",
       "    }\n",
       "\n",
       "    .dataframe tbody tr th {\n",
       "        vertical-align: top;\n",
       "    }\n",
       "\n",
       "    .dataframe thead th {\n",
       "        text-align: right;\n",
       "    }\n",
       "</style>\n",
       "<table border=\"1\" class=\"dataframe\">\n",
       "  <thead>\n",
       "    <tr style=\"text-align: right;\">\n",
       "      <th></th>\n",
       "      <th>0</th>\n",
       "      <th>1</th>\n",
       "    </tr>\n",
       "  </thead>\n",
       "  <tbody>\n",
       "    <tr>\n",
       "      <th>0</th>\n",
       "      <td>1001</td>\n",
       "      <td>573</td>\n",
       "    </tr>\n",
       "    <tr>\n",
       "      <th>1</th>\n",
       "      <td>1160</td>\n",
       "      <td>667</td>\n",
       "    </tr>\n",
       "    <tr>\n",
       "      <th>2</th>\n",
       "      <td>1417</td>\n",
       "      <td>676</td>\n",
       "    </tr>\n",
       "    <tr>\n",
       "      <th>3</th>\n",
       "      <td>1491</td>\n",
       "      <td>942</td>\n",
       "    </tr>\n",
       "    <tr>\n",
       "      <th>4</th>\n",
       "      <td>1051</td>\n",
       "      <td>818</td>\n",
       "    </tr>\n",
       "  </tbody>\n",
       "</table>\n",
       "</div>"
      ],
      "text/plain": [
       "      0    1\n",
       "0  1001  573\n",
       "1  1160  667\n",
       "2  1417  676\n",
       "3  1491  942\n",
       "4  1051  818"
      ]
     },
     "execution_count": 6,
     "metadata": {},
     "output_type": "execute_result"
    }
   ],
   "source": [
    "pd.read_csv('../../Data/TRAIN/193 Megachile latimanus f right 4x.csv', header=None)"
   ]
  },
  {
   "cell_type": "code",
   "execution_count": 7,
   "id": "b020fc64",
   "metadata": {},
   "outputs": [
    {
     "data": {
      "text/html": [
       "<div>\n",
       "<style scoped>\n",
       "    .dataframe tbody tr th:only-of-type {\n",
       "        vertical-align: middle;\n",
       "    }\n",
       "\n",
       "    .dataframe tbody tr th {\n",
       "        vertical-align: top;\n",
       "    }\n",
       "\n",
       "    .dataframe thead th {\n",
       "        text-align: right;\n",
       "    }\n",
       "</style>\n",
       "<table border=\"1\" class=\"dataframe\">\n",
       "  <thead>\n",
       "    <tr style=\"text-align: right;\">\n",
       "      <th></th>\n",
       "      <th>0</th>\n",
       "      <th>1</th>\n",
       "    </tr>\n",
       "  </thead>\n",
       "  <tbody>\n",
       "    <tr>\n",
       "      <th>0</th>\n",
       "      <td>1014</td>\n",
       "      <td>701</td>\n",
       "    </tr>\n",
       "    <tr>\n",
       "      <th>1</th>\n",
       "      <td>1211</td>\n",
       "      <td>721</td>\n",
       "    </tr>\n",
       "  </tbody>\n",
       "</table>\n",
       "</div>"
      ],
      "text/plain": [
       "      0    1\n",
       "0  1014  701\n",
       "1  1211  721"
      ]
     },
     "execution_count": 7,
     "metadata": {},
     "output_type": "execute_result"
    }
   ],
   "source": [
    "pd.read_csv('../../Data/TRAIN/1062 Agapostemon texanus f right 3.2x.csv', header=None)"
   ]
  },
  {
   "cell_type": "code",
   "execution_count": null,
   "id": "16de8f6f",
   "metadata": {},
   "outputs": [],
   "source": []
  }
 ],
 "metadata": {
  "kernelspec": {
   "display_name": "myenv",
   "language": "python",
   "name": "myenv"
  },
  "language_info": {
   "codemirror_mode": {
    "name": "ipython",
    "version": 3
   },
   "file_extension": ".py",
   "mimetype": "text/x-python",
   "name": "python",
   "nbconvert_exporter": "python",
   "pygments_lexer": "ipython3",
   "version": "3.9.6"
  }
 },
 "nbformat": 4,
 "nbformat_minor": 5
}
